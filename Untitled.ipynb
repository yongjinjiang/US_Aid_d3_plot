{
 "cells": [
  {
   "cell_type": "code",
   "execution_count": 7,
   "metadata": {},
   "outputs": [],
   "source": [
    "import pandas as pd\n",
    "import pycountry"
   ]
  },
  {
   "cell_type": "code",
   "execution_count": 21,
   "metadata": {},
   "outputs": [
    {
     "data": {
      "text/plain": [
       "7847"
      ]
     },
     "execution_count": 21,
     "metadata": {},
     "output_type": "execute_result"
    },
    {
     "data": {
      "text/plain": [
       "Language(alpha_2='an', alpha_3='arg', name='Aragonese', scope='I', type='L')"
      ]
     },
     "execution_count": 21,
     "metadata": {},
     "output_type": "execute_result"
    }
   ],
   "source": [
    "aragonese = pycountry.languages.get(alpha_2='an')\n",
    "len(pycountry.languages)\n",
    "bengali = pycountry.languages.get(alpha_2='CN')\n",
    "aragonese\n",
    "bengali "
   ]
  },
  {
   "cell_type": "code",
   "execution_count": 15,
   "metadata": {},
   "outputs": [],
   "source": [
    "len(pycountry.countries)\n",
    "country= pycountry.countries.get(alpha_2='CN')\n",
    "country\n",
    "country.alpha_3\n",
    "pycountry.subdivisions.get(country_code='CN');"
   ]
  },
  {
   "cell_type": "code",
   "execution_count": null,
   "metadata": {},
   "outputs": [],
   "source": []
  },
  {
   "cell_type": "code",
   "execution_count": 2,
   "metadata": {},
   "outputs": [],
   "source": [
    "countries=pd.read_csv(\"country_name.csv\")"
   ]
  },
  {
   "cell_type": "code",
   "execution_count": 4,
   "metadata": {},
   "outputs": [],
   "source": [
    "data=countries[\"country\"]"
   ]
  },
  {
   "cell_type": "code",
   "execution_count": 5,
   "metadata": {},
   "outputs": [
    {
     "data": {
      "text/plain": [
       "0                                    Afghanistan\n",
       "1                                        Albania\n",
       "2                                        Algeria\n",
       "3                                         Angola\n",
       "4                                       Anguilla\n",
       "5                            Antigua and Barbuda\n",
       "6                                      Argentina\n",
       "7                                        Armenia\n",
       "8                                          Aruba\n",
       "9                                    Asia Region\n",
       "10     Asia, Middle East and North Africa Region\n",
       "11                                     Australia\n",
       "12                                       Austria\n",
       "13                                    Azerbaijan\n",
       "14                                       Bahamas\n",
       "15                                       Bahrain\n",
       "16                                    Bangladesh\n",
       "17                                      Barbados\n",
       "18                                       Belarus\n",
       "19                                       Belgium\n",
       "20                                        Belize\n",
       "21                                         Benin\n",
       "22                                  Berlin, West\n",
       "23                                       Bermuda\n",
       "24                                        Bhutan\n",
       "25                                       Bolivia\n",
       "26                        Bosnia and Herzegovina\n",
       "27                                      Botswana\n",
       "28                                        Brazil\n",
       "29                British Indian Ocean Territory\n",
       "                         ...                    \n",
       "223                                  Timor-Leste\n",
       "224                                         Togo\n",
       "225                                        Tonga\n",
       "226                          Trinidad and Tobago\n",
       "227                                      Tunisia\n",
       "228                                       Turkey\n",
       "229                                 Turkmenistan\n",
       "230                     Turks and Caicos Islands\n",
       "231                                       Tuvalu\n",
       "232                                       Uganda\n",
       "233                                      Ukraine\n",
       "234                         United Arab Emirates\n",
       "235                               United Kingdom\n",
       "236                                      Uruguay\n",
       "237                                   Uzbekistan\n",
       "238                                      Vanuatu\n",
       "239                                    Venezuela\n",
       "240                                      Vietnam\n",
       "241                       Vietnam (former South)\n",
       "242                           West Africa Region\n",
       "243                               West Bank/Gaza\n",
       "244                     Western (Spanish) Sahara\n",
       "245                        Western Europe Region\n",
       "246                    Western Hemisphere Region\n",
       "247                                        World\n",
       "248                                        Yemen\n",
       "249                        Yemen (former P.D.R.)\n",
       "250                          Yugoslavia (former)\n",
       "251                                       Zambia\n",
       "252                                     Zimbabwe\n",
       "Name: country, Length: 253, dtype: object"
      ]
     },
     "execution_count": 5,
     "metadata": {},
     "output_type": "execute_result"
    }
   ],
   "source": [
    "data"
   ]
  },
  {
   "cell_type": "code",
   "execution_count": null,
   "metadata": {},
   "outputs": [],
   "source": []
  }
 ],
 "metadata": {
  "kernelspec": {
   "display_name": "Python [conda env:PythonData]",
   "language": "python",
   "name": "conda-env-PythonData-py"
  },
  "language_info": {
   "codemirror_mode": {
    "name": "ipython",
    "version": 3
   },
   "file_extension": ".py",
   "mimetype": "text/x-python",
   "name": "python",
   "nbconvert_exporter": "python",
   "pygments_lexer": "ipython3",
   "version": "3.6.5"
  }
 },
 "nbformat": 4,
 "nbformat_minor": 2
}
